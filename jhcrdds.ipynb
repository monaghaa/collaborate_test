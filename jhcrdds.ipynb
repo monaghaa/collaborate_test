{
 "cells": [
  {
   "cell_type": "markdown",
   "metadata": {},
   "source": [
    "## Getting Started with Jupyter Notebooks"
   ]
  },
  {
   "cell_type": "markdown",
   "metadata": {},
   "source": [
    "------------------------------------------------------------------------\n",
    "#### Andy Monaghan (andrew.monaghan@colorado.edu)\n",
    "#### Center for Research Data and Digital Scholarship, Research Computing\n",
    "#### University of Colorado Boulder\n",
    "#### January 27, 2021\n",
    "------------------------------------------------------------------------"
   ]
  },
  {
   "cell_type": "markdown",
   "metadata": {},
   "source": [
    "__Acknowledgements:__\n",
    "* Brett Shouse (CU Research Computing)\n",
    "* https://www.dataquest.io/blog/jupyter-notebook-tutorial/\n",
    "* https://jakevdp.github.io/PythonDataScienceHandbook/04.00-introduction-to-matplotlib.html\n",
    "----"
   ]
  },
  {
   "cell_type": "markdown",
   "metadata": {},
   "source": [
    "#### [Jupyter notebooks](https://jupyter.org/) are an excellent resource for interactive development and data analysis using Python, R, and other languages. Jupyter notebooks can contain live code, equations, visualizations, and explanatory text which provide an excellent enviornment to use, learn, and teach interactive data analysis.  \n",
    "\n",
    "----"
   ]
  },
  {
   "cell_type": "markdown",
   "metadata": {},
   "source": [
    "__Learning Objectives:__\n",
    "* Overview\n",
    "* Hands-on exercises to become familiar with\n",
    "    * Layout of JupyterLab interface\n",
    "    * Layout of Notebooks\n",
    "    * Markdown \n",
    "    * Coding\n",
    "    * Shortcuts\n",
    "    * Viewing data and making graphs\n",
    "    * Saving and exporting notebooks\n",
    "-----------------------------"
   ]
  },
  {
   "cell_type": "markdown",
   "metadata": {},
   "source": [
    "### Let's get started!\n",
    "\n",
    "#### Option 1 (if you are taking the course live on January 27, 2021):\n",
    "* In your browser, navigate to https://jupytertraining.rc.colorado.edu\n",
    "** _If you have any issues with the URL above, try https://52.33.12.234_\n",
    "* Enter the username provided to you\n",
    "* You can choose a password or leave the password box blank\n",
    "* Choose the `Sign In` option and sign in with your new username and password\n",
    "\n",
    "    \n",
    "#### Option 2 (if you are taking the course on your own any other time):\n",
    "* In your browser, navigate to https://www.anaconda.com\n",
    "* Go to \"Products\"-->\"Individual Edition\"-->\"Download\"\n",
    "* Download and install Anaconda for your laptop/desktop\n",
    "* Open Anaconda by clicking on the \"Anaconda Navigator\" icon\n",
    "* Start a _JupyterLab_ instance by clicking on the \"Jupterlab\" icon\n",
    "\n",
    "---\n",
    "If successful, you will be logged into the JupyterLab interface, which should look something like this:\n",
    "\n",
    "    \n",
    "<p align=\"middle\">\n",
    "  <img src=\"./jhscreenshot.png\"/>\n",
    "</p>\n",
    "\n",
    "___"
   ]
  },
  {
   "cell_type": "markdown",
   "metadata": {},
   "source": [
    "### Familiarize yourself with JupyterLab\n",
    "* _Left sidebar:_ Click on a tab to change what you see in the left menu bar.  Options include the file browser, a list of running kernels and terminals, a command palette, a notebook cell tools inspector, and a tabs list.\n",
    "* _Left menu bar:_ \n",
    "  * The _file browser_ will be active when you log in. \n",
    "    * You can navigate to your other directories here.\n",
    "    * To open an existing notebook, just click on the notebook name in the file browser (e.g., _mynotebook.ipynb_).\n",
    "    * Above your working directory contents are buttons to add a new Launcher, create a new folder, upload files from your local computer, and refresh the working directory. \n",
    "* _Main Work Area:_ Your workspaces will be in this large area on the right hand side. Under the \"Launcher\" tab you can: \n",
    "  * Open a new notebook with any of the kernels listed:\n",
    "      * __Python 3: Python3 notebook (Intel Python distribution)\n",
    "      * ...and any other custom kernels you [add on your own](https://test-jupyter.readthedocs.io/en/doc-events/install-kernel.html) \n",
    "   * Open a new console (command line) for any of the kernels.\n",
    "   * Open other functions; the \"Terminal\" function is particularly useful, as it enables you to access the command line on the Summit or Blanca node your Jupyterhub job is currently running on. \n",
    "* See Jupyter's [documentation on the JupyterLab Interface for additional information.](https://jupyterlab.readthedocs.io/en/stable/user/interface.html)\n",
    "----"
   ]
  },
  {
   "cell_type": "markdown",
   "metadata": {},
   "source": [
    "### Open our tutorial notebook\n",
    "* click on the \"Terminal\" option in the _JupyterLab_ interface\n",
    "* in the terminal, clone this repository:\n",
    "  * git clone https://github.com/CU-Boulder-CRDDS/jupyter_spring2021\n",
    "* go back to the JupyterLab interface, navigate to the new \"jupyter_spring2021\" folder, and open _jhcrdds.ipynb_\n",
    "---"
   ]
  },
  {
   "cell_type": "markdown",
   "metadata": {},
   "source": [
    "### Markdown\n"
   ]
  },
  {
   "cell_type": "markdown",
   "metadata": {},
   "source": [
    "```\n",
    "# This is a level 1 heading\n",
    "\n",
    "## This is a level 2 heading\n",
    "\n",
    "This is some plain text that forms a paragraph. \n",
    "\n",
    "Add emphasis via **bold** and __bold__, \n",
    "\n",
    "or *italic* and _italic_. \n",
    "\n",
    "Paragraphs must be separated by an empty line. \n",
    "\n",
    "* Sometimes we want to include lists. \n",
    "* Which can be bulleted using asterisks. \n",
    "\n",
    "1. Lists can also be numbered. \n",
    "2. If we want an ordered list.\n",
    "\n",
    "[It is possible to include hyperlinks](https://www.colorado.edu)\n",
    "\n",
    "Inline code uses single backticks: `foo()`, and code blocks use triple backticks\n",
    "\n",
    "    \n",
    "And finally, adding images is easy: \n",
    "\n",
    "![Alt text](https://www.colorado.edu/cubequest/profiles/express/themes/ucb/images/cu-boulder-logo-text-black.svg)\n",
    "```"
   ]
  },
  {
   "cell_type": "markdown",
   "metadata": {},
   "source": [
    "_Now paste the text above into the cell below and see what happens_"
   ]
  },
  {
   "cell_type": "code",
   "execution_count": null,
   "metadata": {},
   "outputs": [],
   "source": []
  },
  {
   "cell_type": "markdown",
   "metadata": {},
   "source": [
    "_And practice by adding some of your own text in the following cell_"
   ]
  },
  {
   "cell_type": "markdown",
   "metadata": {},
   "source": []
  },
  {
   "cell_type": "markdown",
   "metadata": {},
   "source": [
    "---\n",
    "### Working with data"
   ]
  },
  {
   "cell_type": "markdown",
   "metadata": {},
   "source": [
    "_Run the following cell to load the python packages needed to complete the exercises_"
   ]
  },
  {
   "cell_type": "code",
   "execution_count": null,
   "metadata": {},
   "outputs": [],
   "source": [
    "%matplotlib inline\n",
    "import matplotlib.pyplot as plt\n",
    "import numpy as np\n",
    "import pandas as pd\n",
    "import matplotlib.pyplot as plt\n",
    "import seaborn as sns \n",
    "import time\n",
    "\n",
    "print(\"Hello CU -- I'm ready to go!\")"
   ]
  },
  {
   "cell_type": "markdown",
   "metadata": {},
   "source": [
    "_Now run the following cell to create your first image!_"
   ]
  },
  {
   "cell_type": "code",
   "execution_count": null,
   "metadata": {},
   "outputs": [],
   "source": [
    "x = np.linspace(0, 10, 100)\n",
    "\n",
    "plt.plot(x, np.sin(x), color=\"orange\")\n",
    "plt.plot(x, np.cos(x), color=\"grey\")\n",
    "\n",
    "plt.show()"
   ]
  },
  {
   "cell_type": "markdown",
   "metadata": {},
   "source": [
    "_now paste the text from the cell above into the cell below and change the color of the plot to \"red\" and \"blue\" lines_"
   ]
  },
  {
   "cell_type": "code",
   "execution_count": null,
   "metadata": {},
   "outputs": [],
   "source": []
  },
  {
   "cell_type": "markdown",
   "metadata": {},
   "source": [
    "_Now run the following cell to save the image_"
   ]
  },
  {
   "cell_type": "code",
   "execution_count": null,
   "metadata": {},
   "outputs": [],
   "source": [
    "x = np.linspace(0, 10, 100)\n",
    "\n",
    "plt.plot(x, np.sin(x), color=\"orange\")\n",
    "plt.plot(x, np.cos(x), color=\"grey\")\n",
    "\n",
    "plt.savefig('my_figure.png')\n",
    "plt.show()"
   ]
  },
  {
   "cell_type": "markdown",
   "metadata": {},
   "source": [
    "_Now lets load a dataset from a file - run the following cell_"
   ]
  },
  {
   "cell_type": "code",
   "execution_count": null,
   "metadata": {},
   "outputs": [],
   "source": [
    "%%time\n",
    "#df = pd.read_csv('fortune500.csv')\n",
    "df=pd.read_csv('https://s3.amazonaws.com/dq-blog-files/fortune500.csv')"
   ]
  },
  {
   "cell_type": "markdown",
   "metadata": {},
   "source": [
    "_Now run the following cells to get a quick feel for the data_"
   ]
  },
  {
   "cell_type": "code",
   "execution_count": null,
   "metadata": {},
   "outputs": [],
   "source": [
    "df.head()"
   ]
  },
  {
   "cell_type": "code",
   "execution_count": null,
   "metadata": {},
   "outputs": [],
   "source": [
    "df.tail()"
   ]
  },
  {
   "cell_type": "code",
   "execution_count": null,
   "metadata": {},
   "outputs": [],
   "source": [
    "len(df)"
   ]
  },
  {
   "cell_type": "markdown",
   "metadata": {},
   "source": [
    "_Now change the name of the columns to ease plotting_"
   ]
  },
  {
   "cell_type": "code",
   "execution_count": null,
   "metadata": {},
   "outputs": [],
   "source": [
    "df.columns = ['year', 'rank', 'company', 'revenue', 'profit']"
   ]
  },
  {
   "cell_type": "markdown",
   "metadata": {},
   "source": [
    "_Now run the following cell to plot the Fortune 500 revenues over time_"
   ]
  },
  {
   "cell_type": "code",
   "execution_count": null,
   "metadata": {},
   "outputs": [],
   "source": [
    "group_by_year = df.loc[:, ['year', 'revenue', 'profit']].groupby('year')\n",
    "avgs = group_by_year.mean()\n",
    "x = avgs.index\n",
    "y1 = avgs.revenue\n",
    "def plot(x, y, ax, title, y_label):\n",
    "    ax.set_title(title)\n",
    "    ax.set_ylabel(y_label)\n",
    "    ax.plot(x, y)\n",
    "    ax.margins(x=0, y=0)\n",
    "fig, ax = plt.subplots()\n",
    "plot(x, y1, ax, 'Increase in mean Fortune 500 company revenue from 1955 to 2005', 'Revenue (millions)')"
   ]
  },
  {
   "cell_type": "markdown",
   "metadata": {},
   "source": [
    "---\n",
    "### Shortcuts\n",
    "* `CTRL+Enter` to run a cell\n",
    "* `Esc` will take you into command mode where you can navigate around your notebook with arrow keys. While in command mode:\n",
    "    * `A` to insert a new cell above the current cell, B to insert a new cell below.\n",
    "    * `M` to change the current cell to Markdown, Y to change it back to code\n",
    "* `Enter` will take you from command mode back into edit mode for the given cell.\n",
    "\n",
    "[More shortcuts](https://www.dataquest.io/blog/jupyter-notebook-tips-tricks-shortcuts/)\n",
    "\n",
    "---"
   ]
  },
  {
   "cell_type": "markdown",
   "metadata": {},
   "source": [
    "### Exporting Notebooks\n",
    "\n",
    "You can export notebooks in a variety of alternate formats that are convenient for sharing, including _PDF_, _html_, _Markdown_, and _LaTeX_.  You can experiment with this by going to the `File` menu and choosing `Export Notebook As...`\n",
    "\n",
    "---"
   ]
  },
  {
   "cell_type": "markdown",
   "metadata": {},
   "source": [
    "### Summary\n",
    "\n",
    "* Please let us know how we are doing!: http://tinyurl.com/curc-survey18\n",
    "* Contact: rc-help@colorado.edu or andrew.monaghan@colorado.edu\n",
    "\n",
    "* Download Anaconda to use Jupyter on your laptop/desktop: https://www.anaconda.com\n",
    "---\n"
   ]
  },
  {
   "cell_type": "markdown",
   "metadata": {},
   "source": [
    "### Other resources\n",
    "  * [Download Anaconda - to use Jupyter on your laptop/desktop](https://www.anaconda.com)\n",
    "  * [Jupyter notebooks - main page](https://jupyter.org)\n",
    "  * [CURC JupyterHub - use Jupyter notebooks on RC resources](https://curc.readthedocs.io/en/latest/gateways/jupyterhub.html) \n",
    "  * [Beginners tutorial - by dataquest](https://www.dataquest.io/blog/jupyter-notebook-tutorial/) \n"
   ]
  }
 ],
 "metadata": {
  "kernelspec": {
   "display_name": "Python 3",
   "language": "python",
   "name": "python3"
  },
  "language_info": {
   "codemirror_mode": {
    "name": "ipython",
    "version": 3
   },
   "file_extension": ".py",
   "mimetype": "text/x-python",
   "name": "python",
   "nbconvert_exporter": "python",
   "pygments_lexer": "ipython3",
   "version": "3.7.3"
  },
  "toc-autonumbering": false,
  "toc-showcode": true,
  "toc-showmarkdowntxt": false
 },
 "nbformat": 4,
 "nbformat_minor": 4
}
